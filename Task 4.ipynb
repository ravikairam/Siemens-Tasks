{
 "cells": [
  {
   "cell_type": "markdown",
   "metadata": {},
   "source": [
    "1. Write a function that takes as input two timestamps of the form 2017/05/13 12:00 and\n",
    "calculates their differences in hours <br>\n"
   ]
  },
  {
   "cell_type": "code",
   "execution_count": 1,
   "metadata": {},
   "outputs": [],
   "source": [
    "from dateutil.parser import *\n",
    "from dateutil.relativedelta import *"
   ]
  },
  {
   "cell_type": "code",
   "execution_count": 2,
   "metadata": {},
   "outputs": [],
   "source": [
    "def get_time_diff(time1: str, time2: str):\n",
    "    dt1 = parse(time1)\n",
    "    dt2 = parse(time2)\n",
    "    \n",
    "    delta = relativedelta(dt1, dt2)\n",
    "    if delta.minutes > 30:\n",
    "        return delta.hours + 1\n",
    "    return delta.hours\n",
    "        "
   ]
  },
  {
   "cell_type": "code",
   "execution_count": 3,
   "metadata": {},
   "outputs": [
    {
     "data": {
      "text/plain": [
       "2"
      ]
     },
     "execution_count": 3,
     "metadata": {},
     "output_type": "execute_result"
    }
   ],
   "source": [
    "get_time_diff('2017/10/13 19:00', '2017/10/13 17:10')"
   ]
  },
  {
   "cell_type": "code",
   "execution_count": 4,
   "metadata": {},
   "outputs": [
    {
     "data": {
      "text/plain": [
       "1"
      ]
     },
     "execution_count": 4,
     "metadata": {},
     "output_type": "execute_result"
    }
   ],
   "source": [
    "get_time_diff('2017/10/13 17:00', '2017/10/13 16:10')"
   ]
  },
  {
   "cell_type": "markdown",
   "metadata": {},
   "source": [
    "2. Expand the above function to only count the time difference between 09:00 – 17:00 and only on\n",
    "weekdays."
   ]
  },
  {
   "cell_type": "code",
   "execution_count": 5,
   "metadata": {},
   "outputs": [],
   "source": [
    "def get_time_diff_exclude_off_hours(time1: str, time2: str):\n",
    "    dt1 = parse(time1)\n",
    "    dt2 = parse(time2)\n",
    "    \n",
    "    if (dt1.hour <= 9 or dt1.hour >= 17) and (dt2.hour <= 9 or dt2.hour >= 17):\n",
    "        return 0\n",
    "    if dt1.weekday() > 4 or dt2.weekday() > 4:\n",
    "        return 0\n",
    "    delta = relativedelta(dt1, dt2)\n",
    "    if delta.minutes > 30:\n",
    "        return delta.hours + 1\n",
    "    return delta.hours\n",
    "        "
   ]
  },
  {
   "cell_type": "code",
   "execution_count": 6,
   "metadata": {},
   "outputs": [
    {
     "data": {
      "text/plain": [
       "0"
      ]
     },
     "execution_count": 6,
     "metadata": {},
     "output_type": "execute_result"
    }
   ],
   "source": [
    "get_time_diff_exclude_off_hours('2017/10/13 19:00', '2017/10/13 17:10')"
   ]
  },
  {
   "cell_type": "code",
   "execution_count": 7,
   "metadata": {},
   "outputs": [
    {
     "data": {
      "text/plain": [
       "1"
      ]
     },
     "execution_count": 7,
     "metadata": {},
     "output_type": "execute_result"
    }
   ],
   "source": [
    "get_time_diff_exclude_off_hours('2017/10/13 17:00', '2017/10/13 16:10')"
   ]
  },
  {
   "cell_type": "code",
   "execution_count": 8,
   "metadata": {},
   "outputs": [
    {
     "data": {
      "text/plain": [
       "0"
      ]
     },
     "execution_count": 8,
     "metadata": {},
     "output_type": "execute_result"
    }
   ],
   "source": [
    "get_time_diff_exclude_off_hours('2022/07/10 17:00', '2022/07/10 16:10')"
   ]
  },
  {
   "cell_type": "code",
   "execution_count": 9,
   "metadata": {},
   "outputs": [
    {
     "data": {
      "text/plain": [
       "1"
      ]
     },
     "execution_count": 9,
     "metadata": {},
     "output_type": "execute_result"
    }
   ],
   "source": [
    "get_time_diff_exclude_off_hours('2022/07/13 17:00', '2022/07/13 16:10')"
   ]
  },
  {
   "cell_type": "code",
   "execution_count": null,
   "metadata": {},
   "outputs": [],
   "source": []
  }
 ],
 "metadata": {
  "kernelspec": {
   "display_name": "Python 3",
   "language": "python",
   "name": "python3"
  },
  "language_info": {
   "codemirror_mode": {
    "name": "ipython",
    "version": 3
   },
   "file_extension": ".py",
   "mimetype": "text/x-python",
   "name": "python",
   "nbconvert_exporter": "python",
   "pygments_lexer": "ipython3",
   "version": "3.7.3"
  }
 },
 "nbformat": 4,
 "nbformat_minor": 2
}
