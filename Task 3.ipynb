{
 "cells": [
  {
   "cell_type": "markdown",
   "metadata": {},
   "source": [
    "1. Write a function with 2 input arguments: <br>\n",
    "    a. the values of a categorical attribute like the values of Country in the above dataset <br>\n",
    "    b. a percentage between 0%-100%. The output should be as the first input with the values\n",
    "    that occur less frequent than the input percentage replaced by a generic categorical\n",
    "    value"
   ]
  },
  {
   "cell_type": "code",
   "execution_count": 1,
   "metadata": {},
   "outputs": [],
   "source": [
    "import pandas as pd\n",
    "import numpy as np"
   ]
  },
  {
   "cell_type": "code",
   "execution_count": 2,
   "metadata": {},
   "outputs": [],
   "source": [
    "df = pd.DataFrame({\"TICKETID\": [\"T3456\", \"T1598\", \"T2105\", \"T2105\"], \"COUNTRY\": [\"DE\", \"EN\", \"CH\", \"CH\"], \"DELAYED\": [\"Y\", \"Y\", \"N\", \"N\"]})"
   ]
  },
  {
   "cell_type": "code",
   "execution_count": 3,
   "metadata": {},
   "outputs": [
    {
     "data": {
      "text/plain": [
       "T2105    0.50\n",
       "T3456    0.25\n",
       "T1598    0.25\n",
       "Name: TICKETID, dtype: float64"
      ]
     },
     "execution_count": 3,
     "metadata": {},
     "output_type": "execute_result"
    }
   ],
   "source": [
    "df['TICKETID'].value_counts(normalize=True)"
   ]
  },
  {
   "cell_type": "code",
   "execution_count": 4,
   "metadata": {},
   "outputs": [],
   "source": [
    "def replace_less_frequent(df, input_cols=[], threshold_percentage=0.0):\n",
    "    for col in input_cols:\n",
    "        mode = df[col].mode()[0]\n",
    "        for val, count in df[col].value_counts(normalize=True).items():\n",
    "            if count*100.0 < threshold_percentage:\n",
    "                print(\"Replacing \", val, mode)\n",
    "                df[col].replace(val, mode, inplace=True)\n",
    "    \n",
    "    return df\n",
    "                \n",
    "\n",
    "        \n",
    "        \n",
    "    "
   ]
  },
  {
   "cell_type": "code",
   "execution_count": 5,
   "metadata": {},
   "outputs": [
    {
     "name": "stdout",
     "output_type": "stream",
     "text": [
      "Replacing  T3456 T2105\n",
      "Replacing  T1598 T2105\n"
     ]
    }
   ],
   "source": [
    "df_new = replace_less_frequent(df, input_cols=['TICKETID'], threshold_percentage=33.3)"
   ]
  },
  {
   "cell_type": "code",
   "execution_count": 6,
   "metadata": {},
   "outputs": [
    {
     "data": {
      "text/html": [
       "<div>\n",
       "<style scoped>\n",
       "    .dataframe tbody tr th:only-of-type {\n",
       "        vertical-align: middle;\n",
       "    }\n",
       "\n",
       "    .dataframe tbody tr th {\n",
       "        vertical-align: top;\n",
       "    }\n",
       "\n",
       "    .dataframe thead th {\n",
       "        text-align: right;\n",
       "    }\n",
       "</style>\n",
       "<table border=\"1\" class=\"dataframe\">\n",
       "  <thead>\n",
       "    <tr style=\"text-align: right;\">\n",
       "      <th></th>\n",
       "      <th>TICKETID</th>\n",
       "      <th>COUNTRY</th>\n",
       "      <th>DELAYED</th>\n",
       "    </tr>\n",
       "  </thead>\n",
       "  <tbody>\n",
       "    <tr>\n",
       "      <th>0</th>\n",
       "      <td>T2105</td>\n",
       "      <td>DE</td>\n",
       "      <td>Y</td>\n",
       "    </tr>\n",
       "    <tr>\n",
       "      <th>1</th>\n",
       "      <td>T2105</td>\n",
       "      <td>EN</td>\n",
       "      <td>Y</td>\n",
       "    </tr>\n",
       "    <tr>\n",
       "      <th>2</th>\n",
       "      <td>T2105</td>\n",
       "      <td>CH</td>\n",
       "      <td>N</td>\n",
       "    </tr>\n",
       "    <tr>\n",
       "      <th>3</th>\n",
       "      <td>T2105</td>\n",
       "      <td>CH</td>\n",
       "      <td>N</td>\n",
       "    </tr>\n",
       "  </tbody>\n",
       "</table>\n",
       "</div>"
      ],
      "text/plain": [
       "  TICKETID COUNTRY DELAYED\n",
       "0    T2105      DE       Y\n",
       "1    T2105      EN       Y\n",
       "2    T2105      CH       N\n",
       "3    T2105      CH       N"
      ]
     },
     "execution_count": 6,
     "metadata": {},
     "output_type": "execute_result"
    }
   ],
   "source": [
    "df_new"
   ]
  },
  {
   "cell_type": "markdown",
   "metadata": {},
   "source": [
    "____________________________________________________________________________________________________________"
   ]
  },
  {
   "cell_type": "markdown",
   "metadata": {},
   "source": [
    "2. Why could this function be useful in building a logistic regression model predicting a binary\n",
    "target like the Delayed (y/n) in the above dataset?"
   ]
  },
  {
   "cell_type": "markdown",
   "metadata": {},
   "source": [
    "Ans: This function can be useful in removing outliers and handling imbalanced data. "
   ]
  },
  {
   "cell_type": "markdown",
   "metadata": {},
   "source": [
    "_____________________________________________________________________________________________________________"
   ]
  },
  {
   "cell_type": "markdown",
   "metadata": {},
   "source": [
    "3. Describe shortly another approach, which could be useful to treat a categorical attribute with\n",
    "too many different values. Alternatively, describe briefly an algorithm that addresses internally\n",
    "this issue and does not require such a treatment of the categorical attributes."
   ]
  },
  {
   "cell_type": "markdown",
   "metadata": {},
   "source": [
    "Ans: We can use upsampling methods like SMOTE to increase the number of samples for attributes with imbalanced data. \n",
    "Also, we can use weighted classifiers by specifying class weights. \n",
    "We can remove outliers also by using the tukey method. "
   ]
  },
  {
   "cell_type": "code",
   "execution_count": null,
   "metadata": {},
   "outputs": [],
   "source": []
  }
 ],
 "metadata": {
  "kernelspec": {
   "display_name": "Python 3",
   "language": "python",
   "name": "python3"
  },
  "language_info": {
   "codemirror_mode": {
    "name": "ipython",
    "version": 3
   },
   "file_extension": ".py",
   "mimetype": "text/x-python",
   "name": "python",
   "nbconvert_exporter": "python",
   "pygments_lexer": "ipython3",
   "version": "3.7.3"
  }
 },
 "nbformat": 4,
 "nbformat_minor": 2
}
